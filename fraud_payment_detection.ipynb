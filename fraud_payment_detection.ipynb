{
  "nbformat": 4,
  "nbformat_minor": 0,
  "metadata": {
    "colab": {
      "provenance": []
    },
    "kernelspec": {
      "name": "python3",
      "display_name": "Python 3"
    },
    "language_info": {
      "name": "python"
    }
  },
  "cells": [
    {
      "cell_type": "code",
      "execution_count": null,
      "metadata": {
        "id": "Tsppj5aDcm3A"
      },
      "outputs": [],
      "source": [
        "import matplotlib.pyplot as plt\n",
        "\n",
        "#Calling numpy and pandas \n",
        "import pandas as pd\n",
        "import numpy as np\n",
        "\n",
        "#Calling matrix for model evaluation\n",
        "from sklearn.metrics import confusion_matrix, roc_curve, accuracy_score,classification_report\n",
        "\n",
        "#Callling traing split library\n",
        "from sklearn.model_selection import train_test_split\n",
        "\n",
        "#Importing ML algorithm libraries\n",
        "from sklearn.linear_model import LogisticRegression\n",
        "from sklearn.tree import DecisionTreeClassifier\n",
        "from sklearn.ensemble import RandomForestClassifier\n",
        "from sklearn.neighbors import KNeighborsClassifier\n",
        "from sklearn.ensemble import GradientBoostingClassifier\n",
        "\n",
        "#Calling SMOTE library\n",
        "import imblearn\n",
        "#Importing hyperparameter\n",
        "import xgboost as xgb\n",
        "import lightgbm as lgb \n",
        "#Hyperparameter tuning Cross validation ML library\n",
        "from sklearn.linear_model import LogisticRegressionCV\n",
        "from sklearn.model_selection import GridSearchCV, RandomizedSearchCV"
      ]
    },
    {
      "cell_type": "markdown",
      "source": [
        "# **`LOADING DATASETS`**\n",
        "```\n",
        "\n"
      ],
      "metadata": {
        "id": "-m9oV0uciogz"
      }
    },
    {
      "cell_type": "code",
      "source": [
        "data=pd.read_csv(\"/content/fraud_detection_bank_dataset.csv\")\n"
      ],
      "metadata": {
        "id": "u9ELwB0ffEVr"
      },
      "execution_count": null,
      "outputs": []
    },
    {
      "cell_type": "markdown",
      "source": [
        "# **DATA EXPLORATION**"
      ],
      "metadata": {
        "id": "0PEN9SOpjX8f"
      }
    },
    {
      "cell_type": "code",
      "source": [
        "data.head()"
      ],
      "metadata": {
        "colab": {
          "base_uri": "https://localhost:8080/",
          "height": 317
        },
        "id": "MzyX7iMEfTWz",
        "outputId": "ceab5d29-5761-466d-b6ad-66267bb9849c"
      },
      "execution_count": null,
      "outputs": [
        {
          "output_type": "execute_result",
          "data": {
            "text/plain": [
              "   Unnamed: 0  col_0  col_1  col_2  col_3  col_4  col_5  col_6  col_7  col_8  \\\n",
              "0           0      9   1354      0     18      0      1      7      9      0   \n",
              "1           1      0    239      0      1      0      1      0      0      0   \n",
              "2           2      0    260      0      4      0      3      6      0      0   \n",
              "3           3     17    682      0      1      0      0      8     17      0   \n",
              "4           4      1    540      0      2      0      1      7      1      0   \n",
              "\n",
              "   ...  col_103  col_104  col_105  col_106  col_107  col_108  col_109  \\\n",
              "0  ...        0        0        0        1        1        0        0   \n",
              "1  ...        0        1        0        0        0        0        0   \n",
              "2  ...        0        0        0        1        1        0        0   \n",
              "3  ...        0        1        0        1        1        0        0   \n",
              "4  ...        0        0        0        1        1        0        0   \n",
              "\n",
              "   col_110  col_111  targets  \n",
              "0        0       49        1  \n",
              "1        0       55        1  \n",
              "2        0       56        1  \n",
              "3        0       65        1  \n",
              "4        0      175        1  \n",
              "\n",
              "[5 rows x 114 columns]"
            ],
            "text/html": [
              "\n",
              "  <div id=\"df-40df6d53-57ec-47c1-8731-7c8f7dc55738\">\n",
              "    <div class=\"colab-df-container\">\n",
              "      <div>\n",
              "<style scoped>\n",
              "    .dataframe tbody tr th:only-of-type {\n",
              "        vertical-align: middle;\n",
              "    }\n",
              "\n",
              "    .dataframe tbody tr th {\n",
              "        vertical-align: top;\n",
              "    }\n",
              "\n",
              "    .dataframe thead th {\n",
              "        text-align: right;\n",
              "    }\n",
              "</style>\n",
              "<table border=\"1\" class=\"dataframe\">\n",
              "  <thead>\n",
              "    <tr style=\"text-align: right;\">\n",
              "      <th></th>\n",
              "      <th>Unnamed: 0</th>\n",
              "      <th>col_0</th>\n",
              "      <th>col_1</th>\n",
              "      <th>col_2</th>\n",
              "      <th>col_3</th>\n",
              "      <th>col_4</th>\n",
              "      <th>col_5</th>\n",
              "      <th>col_6</th>\n",
              "      <th>col_7</th>\n",
              "      <th>col_8</th>\n",
              "      <th>...</th>\n",
              "      <th>col_103</th>\n",
              "      <th>col_104</th>\n",
              "      <th>col_105</th>\n",
              "      <th>col_106</th>\n",
              "      <th>col_107</th>\n",
              "      <th>col_108</th>\n",
              "      <th>col_109</th>\n",
              "      <th>col_110</th>\n",
              "      <th>col_111</th>\n",
              "      <th>targets</th>\n",
              "    </tr>\n",
              "  </thead>\n",
              "  <tbody>\n",
              "    <tr>\n",
              "      <th>0</th>\n",
              "      <td>0</td>\n",
              "      <td>9</td>\n",
              "      <td>1354</td>\n",
              "      <td>0</td>\n",
              "      <td>18</td>\n",
              "      <td>0</td>\n",
              "      <td>1</td>\n",
              "      <td>7</td>\n",
              "      <td>9</td>\n",
              "      <td>0</td>\n",
              "      <td>...</td>\n",
              "      <td>0</td>\n",
              "      <td>0</td>\n",
              "      <td>0</td>\n",
              "      <td>1</td>\n",
              "      <td>1</td>\n",
              "      <td>0</td>\n",
              "      <td>0</td>\n",
              "      <td>0</td>\n",
              "      <td>49</td>\n",
              "      <td>1</td>\n",
              "    </tr>\n",
              "    <tr>\n",
              "      <th>1</th>\n",
              "      <td>1</td>\n",
              "      <td>0</td>\n",
              "      <td>239</td>\n",
              "      <td>0</td>\n",
              "      <td>1</td>\n",
              "      <td>0</td>\n",
              "      <td>1</td>\n",
              "      <td>0</td>\n",
              "      <td>0</td>\n",
              "      <td>0</td>\n",
              "      <td>...</td>\n",
              "      <td>0</td>\n",
              "      <td>1</td>\n",
              "      <td>0</td>\n",
              "      <td>0</td>\n",
              "      <td>0</td>\n",
              "      <td>0</td>\n",
              "      <td>0</td>\n",
              "      <td>0</td>\n",
              "      <td>55</td>\n",
              "      <td>1</td>\n",
              "    </tr>\n",
              "    <tr>\n",
              "      <th>2</th>\n",
              "      <td>2</td>\n",
              "      <td>0</td>\n",
              "      <td>260</td>\n",
              "      <td>0</td>\n",
              "      <td>4</td>\n",
              "      <td>0</td>\n",
              "      <td>3</td>\n",
              "      <td>6</td>\n",
              "      <td>0</td>\n",
              "      <td>0</td>\n",
              "      <td>...</td>\n",
              "      <td>0</td>\n",
              "      <td>0</td>\n",
              "      <td>0</td>\n",
              "      <td>1</td>\n",
              "      <td>1</td>\n",
              "      <td>0</td>\n",
              "      <td>0</td>\n",
              "      <td>0</td>\n",
              "      <td>56</td>\n",
              "      <td>1</td>\n",
              "    </tr>\n",
              "    <tr>\n",
              "      <th>3</th>\n",
              "      <td>3</td>\n",
              "      <td>17</td>\n",
              "      <td>682</td>\n",
              "      <td>0</td>\n",
              "      <td>1</td>\n",
              "      <td>0</td>\n",
              "      <td>0</td>\n",
              "      <td>8</td>\n",
              "      <td>17</td>\n",
              "      <td>0</td>\n",
              "      <td>...</td>\n",
              "      <td>0</td>\n",
              "      <td>1</td>\n",
              "      <td>0</td>\n",
              "      <td>1</td>\n",
              "      <td>1</td>\n",
              "      <td>0</td>\n",
              "      <td>0</td>\n",
              "      <td>0</td>\n",
              "      <td>65</td>\n",
              "      <td>1</td>\n",
              "    </tr>\n",
              "    <tr>\n",
              "      <th>4</th>\n",
              "      <td>4</td>\n",
              "      <td>1</td>\n",
              "      <td>540</td>\n",
              "      <td>0</td>\n",
              "      <td>2</td>\n",
              "      <td>0</td>\n",
              "      <td>1</td>\n",
              "      <td>7</td>\n",
              "      <td>1</td>\n",
              "      <td>0</td>\n",
              "      <td>...</td>\n",
              "      <td>0</td>\n",
              "      <td>0</td>\n",
              "      <td>0</td>\n",
              "      <td>1</td>\n",
              "      <td>1</td>\n",
              "      <td>0</td>\n",
              "      <td>0</td>\n",
              "      <td>0</td>\n",
              "      <td>175</td>\n",
              "      <td>1</td>\n",
              "    </tr>\n",
              "  </tbody>\n",
              "</table>\n",
              "<p>5 rows × 114 columns</p>\n",
              "</div>\n",
              "      <button class=\"colab-df-convert\" onclick=\"convertToInteractive('df-40df6d53-57ec-47c1-8731-7c8f7dc55738')\"\n",
              "              title=\"Convert this dataframe to an interactive table.\"\n",
              "              style=\"display:none;\">\n",
              "        \n",
              "  <svg xmlns=\"http://www.w3.org/2000/svg\" height=\"24px\"viewBox=\"0 0 24 24\"\n",
              "       width=\"24px\">\n",
              "    <path d=\"M0 0h24v24H0V0z\" fill=\"none\"/>\n",
              "    <path d=\"M18.56 5.44l.94 2.06.94-2.06 2.06-.94-2.06-.94-.94-2.06-.94 2.06-2.06.94zm-11 1L8.5 8.5l.94-2.06 2.06-.94-2.06-.94L8.5 2.5l-.94 2.06-2.06.94zm10 10l.94 2.06.94-2.06 2.06-.94-2.06-.94-.94-2.06-.94 2.06-2.06.94z\"/><path d=\"M17.41 7.96l-1.37-1.37c-.4-.4-.92-.59-1.43-.59-.52 0-1.04.2-1.43.59L10.3 9.45l-7.72 7.72c-.78.78-.78 2.05 0 2.83L4 21.41c.39.39.9.59 1.41.59.51 0 1.02-.2 1.41-.59l7.78-7.78 2.81-2.81c.8-.78.8-2.07 0-2.86zM5.41 20L4 18.59l7.72-7.72 1.47 1.35L5.41 20z\"/>\n",
              "  </svg>\n",
              "      </button>\n",
              "      \n",
              "  <style>\n",
              "    .colab-df-container {\n",
              "      display:flex;\n",
              "      flex-wrap:wrap;\n",
              "      gap: 12px;\n",
              "    }\n",
              "\n",
              "    .colab-df-convert {\n",
              "      background-color: #E8F0FE;\n",
              "      border: none;\n",
              "      border-radius: 50%;\n",
              "      cursor: pointer;\n",
              "      display: none;\n",
              "      fill: #1967D2;\n",
              "      height: 32px;\n",
              "      padding: 0 0 0 0;\n",
              "      width: 32px;\n",
              "    }\n",
              "\n",
              "    .colab-df-convert:hover {\n",
              "      background-color: #E2EBFA;\n",
              "      box-shadow: 0px 1px 2px rgba(60, 64, 67, 0.3), 0px 1px 3px 1px rgba(60, 64, 67, 0.15);\n",
              "      fill: #174EA6;\n",
              "    }\n",
              "\n",
              "    [theme=dark] .colab-df-convert {\n",
              "      background-color: #3B4455;\n",
              "      fill: #D2E3FC;\n",
              "    }\n",
              "\n",
              "    [theme=dark] .colab-df-convert:hover {\n",
              "      background-color: #434B5C;\n",
              "      box-shadow: 0px 1px 3px 1px rgba(0, 0, 0, 0.15);\n",
              "      filter: drop-shadow(0px 1px 2px rgba(0, 0, 0, 0.3));\n",
              "      fill: #FFFFFF;\n",
              "    }\n",
              "  </style>\n",
              "\n",
              "      <script>\n",
              "        const buttonEl =\n",
              "          document.querySelector('#df-40df6d53-57ec-47c1-8731-7c8f7dc55738 button.colab-df-convert');\n",
              "        buttonEl.style.display =\n",
              "          google.colab.kernel.accessAllowed ? 'block' : 'none';\n",
              "\n",
              "        async function convertToInteractive(key) {\n",
              "          const element = document.querySelector('#df-40df6d53-57ec-47c1-8731-7c8f7dc55738');\n",
              "          const dataTable =\n",
              "            await google.colab.kernel.invokeFunction('convertToInteractive',\n",
              "                                                     [key], {});\n",
              "          if (!dataTable) return;\n",
              "\n",
              "          const docLinkHtml = 'Like what you see? Visit the ' +\n",
              "            '<a target=\"_blank\" href=https://colab.research.google.com/notebooks/data_table.ipynb>data table notebook</a>'\n",
              "            + ' to learn more about interactive tables.';\n",
              "          element.innerHTML = '';\n",
              "          dataTable['output_type'] = 'display_data';\n",
              "          await google.colab.output.renderOutput(dataTable, element);\n",
              "          const docLink = document.createElement('div');\n",
              "          docLink.innerHTML = docLinkHtml;\n",
              "          element.appendChild(docLink);\n",
              "        }\n",
              "      </script>\n",
              "    </div>\n",
              "  </div>\n",
              "  "
            ]
          },
          "metadata": {},
          "execution_count": 7
        }
      ]
    },
    {
      "cell_type": "code",
      "source": [
        "data.shape\n"
      ],
      "metadata": {
        "colab": {
          "base_uri": "https://localhost:8080/"
        },
        "id": "v0f0g72LfXrb",
        "outputId": "61f921f8-2869-4f2b-e2c2-48f636cc54a6"
      },
      "execution_count": null,
      "outputs": [
        {
          "output_type": "execute_result",
          "data": {
            "text/plain": [
              "(20468, 114)"
            ]
          },
          "metadata": {},
          "execution_count": 8
        }
      ]
    },
    {
      "cell_type": "code",
      "source": [
        "no_fraud=data[(data[\"targets\"]==0)]\n",
        "fraud=data[data[\"targets\"]==1]"
      ],
      "metadata": {
        "id": "C168UlIMffrr"
      },
      "execution_count": null,
      "outputs": []
    },
    {
      "cell_type": "code",
      "source": [
        "fraud.shape"
      ],
      "metadata": {
        "colab": {
          "base_uri": "https://localhost:8080/"
        },
        "id": "vGvZOhjCfmzE",
        "outputId": "e341d746-7d7b-48b6-e526-8ed8e2a79ebf"
      },
      "execution_count": null,
      "outputs": [
        {
          "output_type": "execute_result",
          "data": {
            "text/plain": [
              "(5438, 114)"
            ]
          },
          "metadata": {},
          "execution_count": 10
        }
      ]
    },
    {
      "cell_type": "code",
      "source": [
        "no_fraud.shape\n"
      ],
      "metadata": {
        "colab": {
          "base_uri": "https://localhost:8080/"
        },
        "id": "hInYV3z7fqZ5",
        "outputId": "e56f6753-f4da-4601-c76a-c874c2448dd6"
      },
      "execution_count": null,
      "outputs": [
        {
          "output_type": "execute_result",
          "data": {
            "text/plain": [
              "(15030, 114)"
            ]
          },
          "metadata": {},
          "execution_count": 11
        }
      ]
    },
    {
      "cell_type": "code",
      "source": [
        "data.isnull().sum().sum()"
      ],
      "metadata": {
        "colab": {
          "base_uri": "https://localhost:8080/"
        },
        "id": "B3Bfq27Xfum9",
        "outputId": "0562c1c4-5e70-4177-e8c8-d0f6e0bb44bc"
      },
      "execution_count": null,
      "outputs": [
        {
          "output_type": "execute_result",
          "data": {
            "text/plain": [
              "0"
            ]
          },
          "metadata": {},
          "execution_count": 12
        }
      ]
    },
    {
      "cell_type": "code",
      "source": [
        "data.isna().sum().sum()"
      ],
      "metadata": {
        "colab": {
          "base_uri": "https://localhost:8080/"
        },
        "id": "APy5TvSBfzkQ",
        "outputId": "f3f5f8c9-8907-4ff0-a3f2-37b21df05691"
      },
      "execution_count": null,
      "outputs": [
        {
          "output_type": "execute_result",
          "data": {
            "text/plain": [
              "0"
            ]
          },
          "metadata": {},
          "execution_count": 13
        }
      ]
    },
    {
      "cell_type": "code",
      "source": [
        "data.nunique().sum()"
      ],
      "metadata": {
        "colab": {
          "base_uri": "https://localhost:8080/"
        },
        "id": "5_dv-tQ7f5PG",
        "outputId": "7c4c0826-fb2e-48b6-84ab-c1791236fb89"
      },
      "execution_count": null,
      "outputs": [
        {
          "output_type": "execute_result",
          "data": {
            "text/plain": [
              "43797"
            ]
          },
          "metadata": {},
          "execution_count": 14
        }
      ]
    },
    {
      "cell_type": "code",
      "source": [
        "data.info()"
      ],
      "metadata": {
        "colab": {
          "base_uri": "https://localhost:8080/"
        },
        "id": "oef0Kczif9BQ",
        "outputId": "fe45be16-7554-4fdc-a276-5e258745abd0"
      },
      "execution_count": null,
      "outputs": [
        {
          "output_type": "stream",
          "name": "stdout",
          "text": [
            "<class 'pandas.core.frame.DataFrame'>\n",
            "RangeIndex: 20468 entries, 0 to 20467\n",
            "Columns: 114 entries, Unnamed: 0 to targets\n",
            "dtypes: float64(1), int64(113)\n",
            "memory usage: 17.8 MB\n"
          ]
        }
      ]
    },
    {
      "cell_type": "code",
      "source": [
        "df=data.copy()"
      ],
      "metadata": {
        "id": "3-jzybWagC1g"
      },
      "execution_count": null,
      "outputs": []
    },
    {
      "cell_type": "code",
      "source": [
        "X=df.iloc[:,:-1]\n",
        "y=df.iloc[:,-1:]"
      ],
      "metadata": {
        "id": "1dY3TzfugKJG"
      },
      "execution_count": null,
      "outputs": []
    },
    {
      "cell_type": "code",
      "source": [
        "def plot_roc_curve(y_test,prob):\n",
        "  #Takes actual and predicted probablities as a input and plot receiver operating chracteritics \n",
        "\n",
        "  fpr, tpr, threshold=roc_curve(y_test, prob)\n",
        "  plt.title(\"ROC curve plot\")\n",
        "  plt.plot(fpr,tpr, 'b', label=\"curve measure\")\n",
        "  plt.xlabel(\"False Positive Rate\")\n",
        "  plt.ylabel(\"True Positive Rate\")\n",
        "  plt.legend()\n",
        "  plt.show()"
      ],
      "metadata": {
        "id": "h0bVsXxZgO5C"
      },
      "execution_count": null,
      "outputs": []
    },
    {
      "cell_type": "markdown",
      "source": [
        "# **Implemented model performance score function**"
      ],
      "metadata": {
        "id": "P0eNLvRTj3j5"
      }
    },
    {
      "cell_type": "code",
      "source": [
        "def model_evaluation(test, pred):\n",
        "  print(\"model accuracy: \\n\", accuracy_score(test, pred))\n",
        "  print(\"Confusion metrix: \\n\", confusion_matrix(test, pred))\n",
        "  print(\"classification report: \\n\", classification_report(test,pred))"
      ],
      "metadata": {
        "id": "ER-v8ptRgUxM"
      },
      "execution_count": null,
      "outputs": []
    },
    {
      "cell_type": "markdown",
      "source": [
        "# **With out sampling of imblance data**"
      ],
      "metadata": {
        "id": "zlG2MEu0kD1k"
      }
    },
    {
      "cell_type": "code",
      "source": [
        "X_train,X_test,y_train,y_test=train_test_split(X,y)"
      ],
      "metadata": {
        "id": "g-Zyxn4UgZRv"
      },
      "execution_count": null,
      "outputs": []
    },
    {
      "cell_type": "code",
      "source": [
        "#Initializing KNeighbors object\n",
        "kns=KNeighborsClassifier(n_neighbors=20)\n",
        "\n",
        "#Training the train data\n",
        "kns.fit(X_train,np.ravel(y_train))\n",
        "#Getting prediction value\n",
        "pred=kns.predict(X_test)"
      ],
      "metadata": {
        "id": "Hnj89W2Ugg6p"
      },
      "execution_count": null,
      "outputs": []
    },
    {
      "cell_type": "code",
      "source": [
        "model_evaluation(y_test,pred)"
      ],
      "metadata": {
        "colab": {
          "base_uri": "https://localhost:8080/"
        },
        "id": "R9Rd_x-2glaW",
        "outputId": "7aa71d3b-ae1b-4ab1-ddb7-0d8677e8ce3c"
      },
      "execution_count": null,
      "outputs": [
        {
          "output_type": "stream",
          "name": "stdout",
          "text": [
            "model accuracy: \n",
            " 0.9878835255032246\n",
            "Confusion metrix: \n",
            " [[3801    0]\n",
            " [  62 1254]]\n",
            "classification report: \n",
            "               precision    recall  f1-score   support\n",
            "\n",
            "           0       0.98      1.00      0.99      3801\n",
            "           1       1.00      0.95      0.98      1316\n",
            "\n",
            "    accuracy                           0.99      5117\n",
            "   macro avg       0.99      0.98      0.98      5117\n",
            "weighted avg       0.99      0.99      0.99      5117\n",
            "\n"
          ]
        }
      ]
    },
    {
      "cell_type": "code",
      "source": [
        "kns_prob=kns.predict_proba(X_test)[:,1]"
      ],
      "metadata": {
        "id": "2q7RScXtgq8V"
      },
      "execution_count": null,
      "outputs": []
    },
    {
      "cell_type": "code",
      "source": [
        "plot_roc_curve(y_test,kns_prob)"
      ],
      "metadata": {
        "colab": {
          "base_uri": "https://localhost:8080/",
          "height": 295
        },
        "id": "iD3dD7eHgveK",
        "outputId": "ef1950aa-9024-4352-e7fe-dfe206b1b01e"
      },
      "execution_count": null,
      "outputs": [
        {
          "output_type": "display_data",
          "data": {
            "text/plain": [
              "<Figure size 432x288 with 1 Axes>"
            ],
            "image/png": "[encoded data removed]"
          },
          "metadata": {
            "needs_background": "light"
          }
        }
      ]
    },
    {
      "cell_type": "markdown",
      "source": [
        "# **Applying SMOTE over sampling**"
      ],
      "metadata": {
        "id": "TRAsFr_5kqQJ"
      }
    },
    {
      "cell_type": "code",
      "source": [
        "over_smpl=imblearn.over_sampling.SMOTE()"
      ],
      "metadata": {
        "id": "oRC5aceZg020"
      },
      "execution_count": null,
      "outputs": []
    },
    {
      "cell_type": "code",
      "source": [
        "X_res, y_res=over_smpl.fit_resample(X,y)"
      ],
      "metadata": {
        "id": "Lp8YDVnrg164"
      },
      "execution_count": null,
      "outputs": []
    },
    {
      "cell_type": "code",
      "source": [
        "X_train,X_test,y_train,y_test=train_test_split(X_res, y_res)"
      ],
      "metadata": {
        "id": "XRCxZJcBg9jI"
      },
      "execution_count": null,
      "outputs": []
    },
    {
      "cell_type": "code",
      "source": [
        "kn=KNeighborsClassifier(n_neighbors=10)"
      ],
      "metadata": {
        "id": "mUhuzVhShCKh"
      },
      "execution_count": null,
      "outputs": []
    },
    {
      "cell_type": "code",
      "source": [
        "kn.fit(X_train,np.ravel(y_train))"
      ],
      "metadata": {
        "colab": {
          "base_uri": "https://localhost:8080/"
        },
        "id": "0lVNCofghG5Z",
        "outputId": "4bc40f3b-9245-473e-e755-fde5adfe7142"
      },
      "execution_count": null,
      "outputs": [
        {
          "output_type": "execute_result",
          "data": {
            "text/plain": [
              "KNeighborsClassifier(n_neighbors=10)"
            ]
          },
          "metadata": {},
          "execution_count": 29
        }
      ]
    },
    {
      "cell_type": "code",
      "source": [
        "y_pred=kn.predict(X_test)"
      ],
      "metadata": {
        "id": "O_yS-Bz0hLBc"
      },
      "execution_count": null,
      "outputs": []
    },
    {
      "cell_type": "code",
      "source": [
        "model_evaluation(y_test,y_pred)"
      ],
      "metadata": {
        "colab": {
          "base_uri": "https://localhost:8080/"
        },
        "id": "G5_H1-2hhRb7",
        "outputId": "58674e33-d133-4f0b-c708-53c38fc4eebe"
      },
      "execution_count": null,
      "outputs": [
        {
          "output_type": "stream",
          "name": "stdout",
          "text": [
            "model accuracy: \n",
            " 0.9916167664670659\n",
            "Confusion metrix: \n",
            " [[3750   14]\n",
            " [  49 3702]]\n",
            "classification report: \n",
            "               precision    recall  f1-score   support\n",
            "\n",
            "           0       0.99      1.00      0.99      3764\n",
            "           1       1.00      0.99      0.99      3751\n",
            "\n",
            "    accuracy                           0.99      7515\n",
            "   macro avg       0.99      0.99      0.99      7515\n",
            "weighted avg       0.99      0.99      0.99      7515\n",
            "\n"
          ]
        }
      ]
    },
    {
      "cell_type": "markdown",
      "source": [
        "# **After doing over sampling on imblance data, we got better performance to 99%**"
      ],
      "metadata": {
        "id": "co0fS8Ckk62K"
      }
    },
    {
      "cell_type": "code",
      "source": [
        "y_predroc=kn.predict_proba(X_test)[:,1]\n",
        "y_predroc"
      ],
      "metadata": {
        "colab": {
          "base_uri": "https://localhost:8080/"
        },
        "id": "-1skyDQJhZ57",
        "outputId": "93fc833b-eae3-4e19-9f7b-65eff6df80ee"
      },
      "execution_count": null,
      "outputs": [
        {
          "output_type": "execute_result",
          "data": {
            "text/plain": [
              "array([1., 0., 0., ..., 1., 1., 1.])"
            ]
          },
          "metadata": {},
          "execution_count": 32
        }
      ]
    },
    {
      "cell_type": "code",
      "source": [
        "plot_roc_curve(y_test,y_predroc)\n"
      ],
      "metadata": {
        "colab": {
          "base_uri": "https://localhost:8080/",
          "height": 295
        },
        "id": "lWVCtwcrhd-O",
        "outputId": "b1232221-6ac5-49e3-f2a3-a6a929c77d20"
      },
      "execution_count": null,
      "outputs": [
        {
          "output_type": "display_data",
          "data": {
            "text/plain": [
              "<Figure size 432x288 with 1 Axes>"
            ],
            "image/png": "[encoded data removed]"
          },
          "metadata": {
            "needs_background": "light"
          }
        }
      ]
    },
    {
      "cell_type": "markdown",
      "source": [
        "# **Implementing DecisionTree classifier**"
      ],
      "metadata": {
        "id": "DbMF8vFUlKM-"
      }
    },
    {
      "cell_type": "code",
      "source": [
        "clf=DecisionTreeClassifier()"
      ],
      "metadata": {
        "id": "v9FPdym9h0H8"
      },
      "execution_count": null,
      "outputs": []
    },
    {
      "cell_type": "code",
      "source": [
        "clf.fit(X_train,y_train)"
      ],
      "metadata": {
        "id": "cV33c6dEiSO2",
        "colab": {
          "base_uri": "https://localhost:8080/"
        },
        "outputId": "9e498be6-3940-4136-c633-f332f7ab0c2a"
      },
      "execution_count": null,
      "outputs": [
        {
          "output_type": "execute_result",
          "data": {
            "text/plain": [
              "DecisionTreeClassifier()"
            ]
          },
          "metadata": {},
          "execution_count": 35
        }
      ]
    },
    {
      "cell_type": "code",
      "source": [
        "pred=clf.predict(X_test)"
      ],
      "metadata": {
        "id": "_CJRjUzviSLL"
      },
      "execution_count": null,
      "outputs": []
    },
    {
      "cell_type": "code",
      "source": [
        "model_evaluation(y_test,pred)"
      ],
      "metadata": {
        "id": "AxFRkTsYiSJy",
        "colab": {
          "base_uri": "https://localhost:8080/"
        },
        "outputId": "5fea179c-9593-431e-c057-a92235ed59cc"
      },
      "execution_count": null,
      "outputs": [
        {
          "output_type": "stream",
          "name": "stdout",
          "text": [
            "model accuracy: \n",
            " 1.0\n",
            "Confusion metrix: \n",
            " [[3764    0]\n",
            " [   0 3751]]\n",
            "classification report: \n",
            "               precision    recall  f1-score   support\n",
            "\n",
            "           0       1.00      1.00      1.00      3764\n",
            "           1       1.00      1.00      1.00      3751\n",
            "\n",
            "    accuracy                           1.00      7515\n",
            "   macro avg       1.00      1.00      1.00      7515\n",
            "weighted avg       1.00      1.00      1.00      7515\n",
            "\n"
          ]
        }
      ]
    },
    {
      "cell_type": "code",
      "source": [
        "plot_roc_curve(y_test, clf.predict_proba(X_test)[:,1])"
      ],
      "metadata": {
        "id": "Yru1LS9IiR9F",
        "colab": {
          "base_uri": "https://localhost:8080/",
          "height": 295
        },
        "outputId": "6b40fa77-1c4b-4da8-b9d6-fea9f3e5945a"
      },
      "execution_count": null,
      "outputs": [
        {
          "output_type": "display_data",
          "data": {
            "text/plain": [
              "<Figure size 432x288 with 1 Axes>"
            ],
            "image/png": "[encoded data removed]"
          },
          "metadata": {
            "needs_background": "light"
          }
        }
      ]
    },
    {
      "cell_type": "markdown",
      "source": [
        "# **Applying RandomForestClassifier for fraud detection**"
      ],
      "metadata": {
        "id": "XUJKD8T0lYgH"
      }
    },
    {
      "cell_type": "code",
      "source": [
        "rft=RandomForestClassifier(n_estimators=100)"
      ],
      "metadata": {
        "id": "HSjcefwsiR4G"
      },
      "execution_count": null,
      "outputs": []
    },
    {
      "cell_type": "code",
      "source": [
        "rft.fit(X_train, np.ravel(y_train))"
      ],
      "metadata": {
        "id": "Fi3nCPBAiRtJ",
        "colab": {
          "base_uri": "https://localhost:8080/"
        },
        "outputId": "32e1348b-eb18-4986-f013-1929a08f8c8d"
      },
      "execution_count": null,
      "outputs": [
        {
          "output_type": "execute_result",
          "data": {
            "text/plain": [
              "RandomForestClassifier()"
            ]
          },
          "metadata": {},
          "execution_count": 40
        }
      ]
    },
    {
      "cell_type": "code",
      "source": [
        "y_pred=rft.predict(X_test)\n",
        "y_roc_pred=rft.predict_proba(X_test)[:,1]"
      ],
      "metadata": {
        "id": "AsB1guoHiRTs"
      },
      "execution_count": null,
      "outputs": []
    },
    {
      "cell_type": "code",
      "source": [
        "model_evaluation(y_test, y_pred)"
      ],
      "metadata": {
        "colab": {
          "base_uri": "https://localhost:8080/"
        },
        "id": "sC1B4CCTjR0P",
        "outputId": "87a10414-c79b-4186-ad14-0647648b3973"
      },
      "execution_count": null,
      "outputs": [
        {
          "output_type": "stream",
          "name": "stdout",
          "text": [
            "model accuracy: \n",
            " 1.0\n",
            "Confusion metrix: \n",
            " [[3764    0]\n",
            " [   0 3751]]\n",
            "classification report: \n",
            "               precision    recall  f1-score   support\n",
            "\n",
            "           0       1.00      1.00      1.00      3764\n",
            "           1       1.00      1.00      1.00      3751\n",
            "\n",
            "    accuracy                           1.00      7515\n",
            "   macro avg       1.00      1.00      1.00      7515\n",
            "weighted avg       1.00      1.00      1.00      7515\n",
            "\n"
          ]
        }
      ]
    },
    {
      "cell_type": "code",
      "source": [
        "plot_roc_curve(y_test,y_roc_pred)"
      ],
      "metadata": {
        "colab": {
          "base_uri": "https://localhost:8080/",
          "height": 295
        },
        "id": "HeDN1HC4jSAr",
        "outputId": "b6c19d1a-9813-4c5e-9f69-c8babfa93985"
      },
      "execution_count": null,
      "outputs": [
        {
          "output_type": "display_data",
          "data": {
            "text/plain": [
              "<Figure size 432x288 with 1 Axes>"
            ],
            "image/png": "[encoded data removed]"
          },
          "metadata": {
            "needs_background": "light"
          }
        }
      ]
    },
    {
      "cell_type": "markdown",
      "source": [
        "# **GradientBosting implemention for fraud detection**"
      ],
      "metadata": {
        "id": "LUiE69smlnPE"
      }
    },
    {
      "cell_type": "code",
      "source": [
        "gbc=GradientBoostingClassifier(n_estimators=100, learning_rate=1.0, max_depth=10)"
      ],
      "metadata": {
        "id": "tA2eBaqLjSHw"
      },
      "execution_count": null,
      "outputs": []
    },
    {
      "cell_type": "code",
      "source": [
        "gbc.fit(X_train,np.ravel(y_train))"
      ],
      "metadata": {
        "colab": {
          "base_uri": "https://localhost:8080/"
        },
        "id": "BARVooXijSJ9",
        "outputId": "514d0e0e-148e-4219-d2ab-da2c532e9dae"
      },
      "execution_count": null,
      "outputs": [
        {
          "output_type": "execute_result",
          "data": {
            "text/plain": [
              "GradientBoostingClassifier(learning_rate=1.0, max_depth=10)"
            ]
          },
          "metadata": {},
          "execution_count": 45
        }
      ]
    },
    {
      "cell_type": "code",
      "source": [
        "pred=gbc.predict(X_test)\n",
        "roc_pred=gbc.predict_proba(X_test)[:,1]"
      ],
      "metadata": {
        "id": "RhqvR-fZjSLo"
      },
      "execution_count": null,
      "outputs": []
    },
    {
      "cell_type": "code",
      "source": [
        "model_evaluation(y_test,pred)"
      ],
      "metadata": {
        "colab": {
          "base_uri": "https://localhost:8080/"
        },
        "id": "4x24zAlJjSOC",
        "outputId": "7a105618-5231-4374-890c-bdac99db13e6"
      },
      "execution_count": null,
      "outputs": [
        {
          "output_type": "stream",
          "name": "stdout",
          "text": [
            "model accuracy: \n",
            " 1.0\n",
            "Confusion metrix: \n",
            " [[3764    0]\n",
            " [   0 3751]]\n",
            "classification report: \n",
            "               precision    recall  f1-score   support\n",
            "\n",
            "           0       1.00      1.00      1.00      3764\n",
            "           1       1.00      1.00      1.00      3751\n",
            "\n",
            "    accuracy                           1.00      7515\n",
            "   macro avg       1.00      1.00      1.00      7515\n",
            "weighted avg       1.00      1.00      1.00      7515\n",
            "\n"
          ]
        }
      ]
    },
    {
      "cell_type": "code",
      "source": [
        "plot_roc_curve(y_test,roc_pred)\n"
      ],
      "metadata": {
        "colab": {
          "base_uri": "https://localhost:8080/",
          "height": 295
        },
        "id": "lMU3bNlCjSRW",
        "outputId": "2f7839f3-9205-440b-824a-a5e226562118"
      },
      "execution_count": null,
      "outputs": [
        {
          "output_type": "display_data",
          "data": {
            "text/plain": [
              "<Figure size 432x288 with 1 Axes>"
            ],
            "image/png": "[encoded data removed]"
          },
          "metadata": {
            "needs_background": "light"
          }
        }
      ]
    },
    {
      "cell_type": "markdown",
      "source": [
        "# **Xgboost implementation to detect fraud**"
      ],
      "metadata": {
        "id": "JINuZq2emFv1"
      }
    },
    {
      "cell_type": "code",
      "source": [
        "params={'learning_rate':[0.01, 0.1],\n",
        "        'max_depth':[2,5],\n",
        "        'min_child_weight':[1,3,5],\n",
        "        'subsample':[.5, .7],\n",
        "        'n_estimators':[100,150]}"
      ],
      "metadata": {
        "id": "vFYNxeYSjSTb"
      },
      "execution_count": null,
      "outputs": []
    },
    {
      "cell_type": "code",
      "source": [
        "xgb_clf=xgb.XGBClassifier()"
      ],
      "metadata": {
        "id": "KzsWi1dE2_8m"
      },
      "execution_count": null,
      "outputs": []
    },
    {
      "cell_type": "code",
      "source": [
        "gcv=GridSearchCV(estimator=xgb_clf, params_grid=params, cv=2, verbose=1)"
      ],
      "metadata": {
        "id": "1WBCnCV6AzdE",
        "colab": {
          "base_uri": "https://localhost:8080/",
          "height": 165
        },
        "outputId": "199ce2da-e928-467f-b537-05389bc1d9e0"
      },
      "execution_count": null,
      "outputs": [
        {
          "output_type": "error",
          "ename": "TypeError",
          "evalue": "ignored",
          "traceback": [
            "\u001b[0;31m---------------------------------------------------------------------------\u001b[0m",
            "\u001b[0;31mTypeError\u001b[0m                                 Traceback (most recent call last)",
            "\u001b[0;32m<ipython-input-68-39cee4502c1c>\u001b[0m in \u001b[0;36m<module>\u001b[0;34m\u001b[0m\n\u001b[0;32m----> 1\u001b[0;31m \u001b[0mgcv\u001b[0m\u001b[0;34m=\u001b[0m\u001b[0mGridSearchCV\u001b[0m\u001b[0;34m(\u001b[0m\u001b[0mestimator\u001b[0m\u001b[0;34m=\u001b[0m\u001b[0mxgb_clf\u001b[0m\u001b[0;34m,\u001b[0m \u001b[0mparams_grid\u001b[0m\u001b[0;34m=\u001b[0m\u001b[0mparams\u001b[0m\u001b[0;34m,\u001b[0m \u001b[0mcv\u001b[0m\u001b[0;34m=\u001b[0m\u001b[0;36m2\u001b[0m\u001b[0;34m,\u001b[0m \u001b[0mverbose\u001b[0m\u001b[0;34m=\u001b[0m\u001b[0;36m1\u001b[0m\u001b[0;34m)\u001b[0m\u001b[0;34m\u001b[0m\u001b[0;34m\u001b[0m\u001b[0m\n\u001b[0m",
            "\u001b[0;31mTypeError\u001b[0m: __init__() got an unexpected keyword argument 'params_grid'"
          ]
        }
      ]
    },
    {
      "cell_type": "code",
      "source": [
        "gcv . fit(X_train,y_train)"
      ],
      "metadata": {
        "id": "mtZew9LWC2Fg",
        "colab": {
          "base_uri": "https://localhost:8080/",
          "height": 165
        },
        "outputId": "0f97ca0d-505c-4e8f-c141-f588bce325d3"
      },
      "execution_count": null,
      "outputs": [
        {
          "output_type": "error",
          "ename": "NameError",
          "evalue": "ignored",
          "traceback": [
            "\u001b[0;31m---------------------------------------------------------------------------\u001b[0m",
            "\u001b[0;31mNameError\u001b[0m                                 Traceback (most recent call last)",
            "\u001b[0;32m<ipython-input-66-ea1e1c3a7dae>\u001b[0m in \u001b[0;36m<module>\u001b[0;34m\u001b[0m\n\u001b[0;32m----> 1\u001b[0;31m \u001b[0mgcv\u001b[0m \u001b[0;34m.\u001b[0m \u001b[0mfit\u001b[0m\u001b[0;34m(\u001b[0m\u001b[0mX_train\u001b[0m\u001b[0;34m,\u001b[0m\u001b[0my_train\u001b[0m\u001b[0;34m)\u001b[0m\u001b[0;34m\u001b[0m\u001b[0;34m\u001b[0m\u001b[0m\n\u001b[0m",
            "\u001b[0;31mNameError\u001b[0m: name 'gcv' is not defined"
          ]
        }
      ]
    },
    {
      "cell_type": "code",
      "source": [
        "g_pred=gcv.predict(X_test)\n",
        "g_roc_pred=gcv.predict_proba(X_test)[:,1]"
      ],
      "metadata": {
        "id": "sc4_foU2KDGb"
      },
      "execution_count": null,
      "outputs": []
    },
    {
      "cell_type": "code",
      "source": [
        "gcv.best_score_"
      ],
      "metadata": {
        "id": "gU3ehQLYKVtU"
      },
      "execution_count": null,
      "outputs": []
    },
    {
      "cell_type": "code",
      "source": [
        "model_evaluation(y_test,g_pred)"
      ],
      "metadata": {
        "id": "WQjjsjg6Kc9v"
      },
      "execution_count": null,
      "outputs": []
    },
    {
      "cell_type": "code",
      "source": [
        "plot_roc_curve(y_test,g_roc_pred)"
      ],
      "metadata": {
        "id": "RB2_4TE9KiJx"
      },
      "execution_count": null,
      "outputs": []
    },
    {
      "cell_type": "markdown",
      "source": [
        "# **Applying lightgbm & Randomized Search for fraud detection**"
      ],
      "metadata": {
        "id": "SfFnT5T1miun"
      }
    },
    {
      "cell_type": "code",
      "source": [
        "LGB=lgb.LGBMClassifier()"
      ],
      "metadata": {
        "id": "QOucnNk_KjaL"
      },
      "execution_count": null,
      "outputs": []
    },
    {
      "cell_type": "code",
      "source": [
        "rs_params = {\n",
        "        'bagging_fraction': (0.5, 0.8),\n",
        "        'bagging_frequency': (5, 8),\n",
        "        'feature_fraction': (0.5, 0.8),\n",
        "        'max_depth': (10, 13),\n",
        "        'min_data_in_leaf': (90, 120),\n",
        "        'num_leaves': (1200, 1550),\n",
        "        'learning_rate': (0.01, 1.0)\n",
        "}"
      ],
      "metadata": {
        "id": "NkY5wUquKngg"
      },
      "execution_count": null,
      "outputs": []
    },
    {
      "cell_type": "code",
      "source": [
        "rs_cv=RandomizedSearchCV(estimator=LGB, param_distributions=rs_params, cv=2, n_jobs=-1, verbose=1)"
      ],
      "metadata": {
        "id": "AcNLTj9lK_2A"
      },
      "execution_count": null,
      "outputs": []
    },
    {
      "cell_type": "code",
      "source": [
        "import re\n",
        "new_names = {col: re.sub(r'[^A-Za-z0-9_]+', '', col) for col in X_train.columns}\n",
        "new_n_list = list(new_names.values())\n",
        "# [LightGBM] Feature appears more than one time.\n",
        "new_names = {col: f'{new_col}_{i}' if new_col in new_n_list[:i] else new_col for i, (col, new_col) in enumerate(new_names.items())}\n",
        "X_train = X_train.rename(columns=new_names)"
      ],
      "metadata": {
        "id": "SBCDbmX9LE8F"
      },
      "execution_count": null,
      "outputs": []
    },
    {
      "cell_type": "code",
      "source": [
        "rs_cv.fit(X_train,np.ravel(y_train))"
      ],
      "metadata": {
        "colab": {
          "base_uri": "https://localhost:8080/"
        },
        "id": "7eKmGi8kLYqy",
        "outputId": "c517bf1f-34cb-4a19-f3bd-f9e874bab89b"
      },
      "execution_count": null,
      "outputs": [
        {
          "output_type": "stream",
          "name": "stdout",
          "text": [
            "Fitting 2 folds for each of 10 candidates, totalling 20 fits\n"
          ]
        },
        {
          "output_type": "execute_result",
          "data": {
            "text/plain": [
              "RandomizedSearchCV(cv=2, estimator=LGBMClassifier(), n_jobs=-1,\n",
              "                   param_distributions={'bagging_fraction': (0.5, 0.8),\n",
              "                                        'bagging_frequency': (5, 8),\n",
              "                                        'feature_fraction': (0.5, 0.8),\n",
              "                                        'learning_rate': (0.01, 1.0),\n",
              "                                        'max_depth': (10, 13),\n",
              "                                        'min_data_in_leaf': (90, 120),\n",
              "                                        'num_leaves': (1200, 1550)},\n",
              "                   verbose=1)"
            ]
          },
          "metadata": {},
          "execution_count": 67
        }
      ]
    },
    {
      "cell_type": "code",
      "source": [
        "rs_pred=rs_cv.predict(X_test)\n",
        "rs_roc_pred=rs_cv.predict_proba(X_test)[:,1]"
      ],
      "metadata": {
        "id": "J5oy_3cDLY_x"
      },
      "execution_count": null,
      "outputs": []
    },
    {
      "cell_type": "code",
      "source": [
        "rs_cv.best_score_"
      ],
      "metadata": {
        "id": "ENdlTEVZLqyy"
      },
      "execution_count": null,
      "outputs": []
    },
    {
      "cell_type": "code",
      "source": [
        "model_evaluation(y_test,rs_pred)\n"
      ],
      "metadata": {
        "id": "lJtcbaLoLrD5"
      },
      "execution_count": null,
      "outputs": []
    },
    {
      "cell_type": "code",
      "source": [
        "plot_roc_curve(y_test,rs_roc_pred )"
      ],
      "metadata": {
        "id": "xJTBWzXsMFWw"
      },
      "execution_count": null,
      "outputs": []
    },
    {
      "cell_type": "markdown",
      "source": [
        "## **Bayes Search for Fraud Detection**"
      ],
      "metadata": {
        "id": "-dPs-LFgmxkh"
      }
    },
    {
      "cell_type": "code",
      "source": [
        "bs_params={\n",
        "       'max_depth':[4,6],\n",
        "       'n_estimators':[50, 100],\n",
        "       'learning_rate':[0.1, 0.2]\n",
        "}"
      ],
      "metadata": {
        "id": "n8vnQsGXMFq9"
      },
      "execution_count": null,
      "outputs": []
    },
    {
      "cell_type": "code",
      "source": [
        "#BayesSearch object \n",
        "bs=BayesSearchCV(LGB,\n",
        "                 bs_params,\n",
        "                 n_iter=5,\n",
        "                 scoring='roc_auc',\n",
        "                 cv=2,\n",
        "                 refit=True,\n",
        "                 verbose=1)"
      ],
      "metadata": {
        "id": "Dj244kTwnDbd"
      },
      "execution_count": null,
      "outputs": []
    }
  ]
}